{
 "cells": [
  {
   "cell_type": "markdown",
   "metadata": {},
   "source": [
    "# Tutorial on how to open, visualize and extract some features from a .mhd Image"
   ]
  },
  {
   "cell_type": "markdown",
   "metadata": {},
   "source": [
    "This Tutorial will show how to open,visualize and extract some features from a .mhd image.\n",
    "To be able to run this tutorial some python libraries / modules need to be installed:\n",
    " - Simple ITK: a library for handling and processing medical images\n",
    " - Numpy: a fundamental package for scientific computing with Python\n",
    " - PIL (Python Imaging Library): a library for adding image processing capabilities to your Python interpreter "
   ]
  },
  {
   "cell_type": "markdown",
   "metadata": {},
   "source": [
    "First of all we import the modules described before, plus some basic python modules "
   ]
  },
  {
   "cell_type": "code",
   "execution_count": null,
   "metadata": {
    "collapsed": false
   },
   "outputs": [],
   "source": [
    "import SimpleITK as sitk\n",
    "import numpy as np\n",
    "import csv\n",
    "import os\n",
    "from PIL import Image"
   ]
  },
  {
   "cell_type": "markdown",
   "metadata": {},
   "source": [
    "We define now a function to open the image, store it into a numpy array and extract the some info:\n",
    "- Origin\n",
    "- Pixel Spacing"
   ]
  },
  {
   "cell_type": "code",
   "execution_count": null,
   "metadata": {
    "collapsed": true
   },
   "outputs": [],
   "source": [
    "def load_itk_image(filename):\n",
    "    itkimage = sitk.ReadImage(filename)\n",
    "    numpyImage = sitk.GetArrayFromImage(itkimage)\n",
    "     \n",
    "    numpyOrigin = np.array(list(reversed(itkimage.GetOrigin())))\n",
    "    numpySpacing = np.array(list(reversed(itkimage.GetSpacing())))\n",
    "     \n",
    "    return numpyImage, numpyOrigin, numpySpacing"
   ]
  },
  {
   "cell_type": "markdown",
   "metadata": {},
   "source": [
    "To be able to open and read the list of candidates, we need to use the csv python module. We define a function to open, read a csv and store in a list the candidates"
   ]
  },
  {
   "cell_type": "code",
   "execution_count": null,
   "metadata": {
    "collapsed": true
   },
   "outputs": [],
   "source": [
    "def readCSV(filename):\n",
    "    lines = []\n",
    "    with open(filename, \"rb\") as f:\n",
    "        csvreader = csv.reader(f)\n",
    "        for line in csvreader:\n",
    "            lines.append(line)\n",
    "    return lines"
   ]
  },
  {
   "cell_type": "markdown",
   "metadata": {},
   "source": [
    "We now need to transform from world coordinates to voxel coordinates. We define a function to do that. Please note that the transformation below is only valid if there is no rotation component in the transformation matrix. For all CT images in our dataset, there is no rotation component so you can use this"
   ]
  },
  {
   "cell_type": "code",
   "execution_count": null,
   "metadata": {
    "collapsed": true
   },
   "outputs": [],
   "source": [
    "def worldToVoxelCoord(worldCoord, origin, spacing):\n",
    "     \n",
    "    stretchedVoxelCoord = np.absolute(worldCoord - origin)\n",
    "    voxelCoord = stretchedVoxelCoord / spacing\n",
    "    return voxelCoord"
   ]
  },
  {
   "cell_type": "markdown",
   "metadata": {},
   "source": [
    "We want to extract now some features from the candidates. We define some normalized planes to extract views from the candidates"
   ]
  },
  {
   "cell_type": "code",
   "execution_count": null,
   "metadata": {
    "collapsed": true
   },
   "outputs": [],
   "source": [
    "def normalizePlanes(npzarray):\n",
    "     \n",
    "    maxHU = 400.\n",
    "    minHU = -1000.\n",
    " \n",
    "    npzarray = (npzarray - minHU) / (maxHU - minHU)\n",
    "    npzarray[npzarray>1] = 1.\n",
    "    npzarray[npzarray<0] = 0.\n",
    "    return npzarray"
   ]
  },
  {
   "cell_type": "markdown",
   "metadata": {},
   "source": [
    "After having defined these auxiliary functions, we can now define the main of our script:\n",
    "- First we have to specify the path where the image and the list of candidates are.\n",
    "- Using the function defined in line 3 we can load the image and extract the Origin and the Pixel Spacing.\n",
    "- We then read the candidates using the function defined in line 4.\n",
    "- We then select a patch for each candidate and visualize it.\n",
    "- we store each patch in .tiff format"
   ]
  },
  {
   "cell_type": "code",
   "execution_count": null,
   "metadata": {
    "collapsed": false
   },
   "outputs": [],
   "source": [
    "def main():\n",
    "    img_path  = 'data/1.3.6.1.4.1.14519.5.2.1.6279.6001.148447286464082095534651426689.mhd'\n",
    "    cand_path = 'data/candidates.csv'\n",
    "    # load image\n",
    "    numpyImage, numpyOrigin, numpySpacing = load_itk_image(img_path)\n",
    "    print numpyImage.shape\n",
    "    print numpyOrigin\n",
    "    print numpySpacing\n",
    "    # load candidates\n",
    "    cands = readCSV(cand_path)\n",
    "    print cands\n",
    "     # get candidates\n",
    "    for cand in cands[1:]:\n",
    "        worldCoord = np.asarray([float(cand[3]),float(cand[2]),float(cand[1])])\n",
    "        voxelCoord = worldToVoxelCoord(worldCoord, numpyOrigin, numpySpacing)\n",
    "        voxelWidth = 65\n",
    "         \n",
    "        patch = numpyImage[voxelCoord[0],voxelCoord[1]-voxelWidth/2:voxelCoord[1]+voxelWidth/2,voxelCoord[2]-voxelWidth/2:voxelCoord[2]+voxelWidth/2]\n",
    "         \n",
    "        patch = normalizePlanes(patch)\n",
    "        print 'data'\n",
    "        print worldCoord\n",
    "        print voxelCoord\n",
    "        print patch\n",
    "        outputDir = 'patches/'\n",
    "        Image.fromarray(patch*255).convert('L').save(os.path.join(outputDir, 'patch_' + str(worldCoord[0]) + '_' + str(worldCoord[1]) + '_' + str(worldCoord[2]) + '.tiff'))\n",
    " "
   ]
  },
  {
   "cell_type": "code",
   "execution_count": null,
   "metadata": {
    "collapsed": true
   },
   "outputs": [],
   "source": [
    "main()"
   ]
  }
 ],
 "metadata": {
  "kernelspec": {
   "display_name": "Python 2",
   "language": "python",
   "name": "python2"
  },
  "language_info": {
   "codemirror_mode": {
    "name": "ipython",
    "version": 2
   },
   "file_extension": ".py",
   "mimetype": "text/x-python",
   "name": "python",
   "nbconvert_exporter": "python",
   "pygments_lexer": "ipython2",
   "version": "2.7.11"
  }
 },
 "nbformat": 4,
 "nbformat_minor": 0
}

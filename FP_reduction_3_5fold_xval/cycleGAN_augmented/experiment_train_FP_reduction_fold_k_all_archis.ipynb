{
 "cells": [
  {
   "cell_type": "code",
   "execution_count": 27,
   "metadata": {},
   "outputs": [],
   "source": [
    "import os\n",
    "import numpy as np\n",
    "import matplotlib.pyplot as plt\n",
    "import pandas as pd\n",
    "%matplotlib inline"
   ]
  },
  {
   "cell_type": "code",
   "execution_count": 6,
   "metadata": {},
   "outputs": [],
   "source": [
    "file_aug = '/home/om18/Documents/KCL/Nov 5 2019 - Nodule Detection/LUNA16_nodule_detection/FP_reduction_3_5fold_xval/cycleGAN_augmented/aug_path.txt'\n",
    "file_data = '/home/om18/Documents/KCL/Nov 5 2019 - Nodule Detection/LUNA16_nodule_detection/FP_reduction_3_5fold_xval/cycleGAN_augmented/data_path.txt'"
   ]
  },
  {
   "cell_type": "code",
   "execution_count": null,
   "metadata": {},
   "outputs": [],
   "source": []
  },
  {
   "cell_type": "code",
   "execution_count": null,
   "metadata": {},
   "outputs": [],
   "source": []
  },
  {
   "cell_type": "code",
   "execution_count": null,
   "metadata": {},
   "outputs": [],
   "source": []
  },
  {
   "cell_type": "code",
   "execution_count": 9,
   "metadata": {},
   "outputs": [
    {
     "data": {
      "text/plain": [
       "'/media/om18/45c77682-c907-4971-84d4-126ad0d801dc1/LUNA16/candidates/'"
      ]
     },
     "execution_count": 9,
     "metadata": {},
     "output_type": "execute_result"
    }
   ],
   "source": [
    "cand_path = np.loadtxt('data_path.txt','str').item()\n",
    "cand_path"
   ]
  },
  {
   "cell_type": "code",
   "execution_count": 10,
   "metadata": {},
   "outputs": [],
   "source": [
    "fold_k=0\n",
    "train_subset_folders = [f'subset{i}/' for i in [x for x in range(10) if (x!=fold_k) and (x!=fold_k+1)]]"
   ]
  },
  {
   "cell_type": "code",
   "execution_count": 11,
   "metadata": {},
   "outputs": [
    {
     "data": {
      "text/plain": [
       "['subset2/',\n",
       " 'subset3/',\n",
       " 'subset4/',\n",
       " 'subset5/',\n",
       " 'subset6/',\n",
       " 'subset7/',\n",
       " 'subset8/',\n",
       " 'subset9/']"
      ]
     },
     "execution_count": 11,
     "metadata": {},
     "output_type": "execute_result"
    }
   ],
   "source": [
    "train_subset_folders"
   ]
  },
  {
   "cell_type": "code",
   "execution_count": 12,
   "metadata": {},
   "outputs": [
    {
     "data": {
      "text/plain": [
       "['/media/om18/45c77682-c907-4971-84d4-126ad0d801dc1/LUNA16/candidates/subset2/',\n",
       " '/media/om18/45c77682-c907-4971-84d4-126ad0d801dc1/LUNA16/candidates/subset3/',\n",
       " '/media/om18/45c77682-c907-4971-84d4-126ad0d801dc1/LUNA16/candidates/subset4/',\n",
       " '/media/om18/45c77682-c907-4971-84d4-126ad0d801dc1/LUNA16/candidates/subset5/',\n",
       " '/media/om18/45c77682-c907-4971-84d4-126ad0d801dc1/LUNA16/candidates/subset6/',\n",
       " '/media/om18/45c77682-c907-4971-84d4-126ad0d801dc1/LUNA16/candidates/subset7/',\n",
       " '/media/om18/45c77682-c907-4971-84d4-126ad0d801dc1/LUNA16/candidates/subset8/',\n",
       " '/media/om18/45c77682-c907-4971-84d4-126ad0d801dc1/LUNA16/candidates/subset9/']"
      ]
     },
     "execution_count": 12,
     "metadata": {},
     "output_type": "execute_result"
    }
   ],
   "source": [
    "train_subset_folders = [cand_path + train_subset_folders[i] for i in range(len(train_subset_folders))]\n",
    "train_subset_folders"
   ]
  },
  {
   "cell_type": "code",
   "execution_count": 13,
   "metadata": {},
   "outputs": [
    {
     "data": {
      "text/plain": [
       "'/media/om18/45c77682-c907-4971-84d4-126ad0d801dc1/LUNA16/cycleGAN_aug_10_folds/'"
      ]
     },
     "execution_count": 13,
     "metadata": {},
     "output_type": "execute_result"
    }
   ],
   "source": [
    "aug_cand_path = np.loadtxt(file_aug,'str').item()\n",
    "aug_cand_path"
   ]
  },
  {
   "cell_type": "code",
   "execution_count": 62,
   "metadata": {},
   "outputs": [
    {
     "data": {
      "text/plain": [
       "['/media/om18/45c77682-c907-4971-84d4-126ad0d801dc1/LUNA16/cycleGAN_aug_10_folds/subset2/',\n",
       " '/media/om18/45c77682-c907-4971-84d4-126ad0d801dc1/LUNA16/cycleGAN_aug_10_folds/subset3/',\n",
       " '/media/om18/45c77682-c907-4971-84d4-126ad0d801dc1/LUNA16/cycleGAN_aug_10_folds/subset4/',\n",
       " '/media/om18/45c77682-c907-4971-84d4-126ad0d801dc1/LUNA16/cycleGAN_aug_10_folds/subset5/',\n",
       " '/media/om18/45c77682-c907-4971-84d4-126ad0d801dc1/LUNA16/cycleGAN_aug_10_folds/subset6/',\n",
       " '/media/om18/45c77682-c907-4971-84d4-126ad0d801dc1/LUNA16/cycleGAN_aug_10_folds/subset7/',\n",
       " '/media/om18/45c77682-c907-4971-84d4-126ad0d801dc1/LUNA16/cycleGAN_aug_10_folds/subset8/',\n",
       " '/media/om18/45c77682-c907-4971-84d4-126ad0d801dc1/LUNA16/cycleGAN_aug_10_folds/subset9/']"
      ]
     },
     "execution_count": 62,
     "metadata": {},
     "output_type": "execute_result"
    }
   ],
   "source": [
    "train_aug_subset_folders = [aug_cand_path + train_subset_folders[ii][-8::] for ii in range(len(train_subset_folders))]\n",
    "train_aug_subset_folders"
   ]
  },
  {
   "cell_type": "code",
   "execution_count": null,
   "metadata": {},
   "outputs": [],
   "source": []
  },
  {
   "cell_type": "code",
   "execution_count": 63,
   "metadata": {},
   "outputs": [
    {
     "name": "stdout",
     "output_type": "stream",
     "text": [
      "(16603, 7)\n"
     ]
    },
    {
     "data": {
      "text/html": [
       "<div>\n",
       "<style scoped>\n",
       "    .dataframe tbody tr th:only-of-type {\n",
       "        vertical-align: middle;\n",
       "    }\n",
       "\n",
       "    .dataframe tbody tr th {\n",
       "        vertical-align: top;\n",
       "    }\n",
       "\n",
       "    .dataframe thead th {\n",
       "        text-align: right;\n",
       "    }\n",
       "</style>\n",
       "<table border=\"1\" class=\"dataframe\">\n",
       "  <thead>\n",
       "    <tr style=\"text-align: right;\">\n",
       "      <th></th>\n",
       "      <th>seriesuid</th>\n",
       "      <th>coordX</th>\n",
       "      <th>coordY</th>\n",
       "      <th>coordZ</th>\n",
       "      <th>class</th>\n",
       "      <th>diameter_mm</th>\n",
       "      <th>filename</th>\n",
       "    </tr>\n",
       "  </thead>\n",
       "  <tbody>\n",
       "    <tr>\n",
       "      <td>0</td>\n",
       "      <td>NaN</td>\n",
       "      <td>NaN</td>\n",
       "      <td>NaN</td>\n",
       "      <td>NaN</td>\n",
       "      <td>NaN</td>\n",
       "      <td>NaN</td>\n",
       "      <td>/media/om18/45c77682-c907-4971-84d4-126ad0d801...</td>\n",
       "    </tr>\n",
       "    <tr>\n",
       "      <td>1</td>\n",
       "      <td>NaN</td>\n",
       "      <td>NaN</td>\n",
       "      <td>NaN</td>\n",
       "      <td>NaN</td>\n",
       "      <td>NaN</td>\n",
       "      <td>NaN</td>\n",
       "      <td>/media/om18/45c77682-c907-4971-84d4-126ad0d801...</td>\n",
       "    </tr>\n",
       "    <tr>\n",
       "      <td>2</td>\n",
       "      <td>NaN</td>\n",
       "      <td>NaN</td>\n",
       "      <td>NaN</td>\n",
       "      <td>NaN</td>\n",
       "      <td>NaN</td>\n",
       "      <td>NaN</td>\n",
       "      <td>/media/om18/45c77682-c907-4971-84d4-126ad0d801...</td>\n",
       "    </tr>\n",
       "    <tr>\n",
       "      <td>3</td>\n",
       "      <td>NaN</td>\n",
       "      <td>NaN</td>\n",
       "      <td>NaN</td>\n",
       "      <td>NaN</td>\n",
       "      <td>NaN</td>\n",
       "      <td>NaN</td>\n",
       "      <td>/media/om18/45c77682-c907-4971-84d4-126ad0d801...</td>\n",
       "    </tr>\n",
       "    <tr>\n",
       "      <td>4</td>\n",
       "      <td>NaN</td>\n",
       "      <td>NaN</td>\n",
       "      <td>NaN</td>\n",
       "      <td>NaN</td>\n",
       "      <td>NaN</td>\n",
       "      <td>NaN</td>\n",
       "      <td>/media/om18/45c77682-c907-4971-84d4-126ad0d801...</td>\n",
       "    </tr>\n",
       "    <tr>\n",
       "      <td>...</td>\n",
       "      <td>...</td>\n",
       "      <td>...</td>\n",
       "      <td>...</td>\n",
       "      <td>...</td>\n",
       "      <td>...</td>\n",
       "      <td>...</td>\n",
       "      <td>...</td>\n",
       "    </tr>\n",
       "    <tr>\n",
       "      <td>16598</td>\n",
       "      <td>NaN</td>\n",
       "      <td>NaN</td>\n",
       "      <td>NaN</td>\n",
       "      <td>NaN</td>\n",
       "      <td>NaN</td>\n",
       "      <td>NaN</td>\n",
       "      <td>/media/om18/45c77682-c907-4971-84d4-126ad0d801...</td>\n",
       "    </tr>\n",
       "    <tr>\n",
       "      <td>16599</td>\n",
       "      <td>NaN</td>\n",
       "      <td>NaN</td>\n",
       "      <td>NaN</td>\n",
       "      <td>NaN</td>\n",
       "      <td>NaN</td>\n",
       "      <td>NaN</td>\n",
       "      <td>/media/om18/45c77682-c907-4971-84d4-126ad0d801...</td>\n",
       "    </tr>\n",
       "    <tr>\n",
       "      <td>16600</td>\n",
       "      <td>NaN</td>\n",
       "      <td>NaN</td>\n",
       "      <td>NaN</td>\n",
       "      <td>NaN</td>\n",
       "      <td>NaN</td>\n",
       "      <td>NaN</td>\n",
       "      <td>/media/om18/45c77682-c907-4971-84d4-126ad0d801...</td>\n",
       "    </tr>\n",
       "    <tr>\n",
       "      <td>16601</td>\n",
       "      <td>NaN</td>\n",
       "      <td>NaN</td>\n",
       "      <td>NaN</td>\n",
       "      <td>NaN</td>\n",
       "      <td>NaN</td>\n",
       "      <td>NaN</td>\n",
       "      <td>/media/om18/45c77682-c907-4971-84d4-126ad0d801...</td>\n",
       "    </tr>\n",
       "    <tr>\n",
       "      <td>16602</td>\n",
       "      <td>NaN</td>\n",
       "      <td>NaN</td>\n",
       "      <td>NaN</td>\n",
       "      <td>NaN</td>\n",
       "      <td>NaN</td>\n",
       "      <td>NaN</td>\n",
       "      <td>/media/om18/45c77682-c907-4971-84d4-126ad0d801...</td>\n",
       "    </tr>\n",
       "  </tbody>\n",
       "</table>\n",
       "<p>16603 rows × 7 columns</p>\n",
       "</div>"
      ],
      "text/plain": [
       "      seriesuid coordX coordY coordZ class diameter_mm  \\\n",
       "0           NaN    NaN    NaN    NaN   NaN         NaN   \n",
       "1           NaN    NaN    NaN    NaN   NaN         NaN   \n",
       "2           NaN    NaN    NaN    NaN   NaN         NaN   \n",
       "3           NaN    NaN    NaN    NaN   NaN         NaN   \n",
       "4           NaN    NaN    NaN    NaN   NaN         NaN   \n",
       "...         ...    ...    ...    ...   ...         ...   \n",
       "16598       NaN    NaN    NaN    NaN   NaN         NaN   \n",
       "16599       NaN    NaN    NaN    NaN   NaN         NaN   \n",
       "16600       NaN    NaN    NaN    NaN   NaN         NaN   \n",
       "16601       NaN    NaN    NaN    NaN   NaN         NaN   \n",
       "16602       NaN    NaN    NaN    NaN   NaN         NaN   \n",
       "\n",
       "                                                filename  \n",
       "0      /media/om18/45c77682-c907-4971-84d4-126ad0d801...  \n",
       "1      /media/om18/45c77682-c907-4971-84d4-126ad0d801...  \n",
       "2      /media/om18/45c77682-c907-4971-84d4-126ad0d801...  \n",
       "3      /media/om18/45c77682-c907-4971-84d4-126ad0d801...  \n",
       "4      /media/om18/45c77682-c907-4971-84d4-126ad0d801...  \n",
       "...                                                  ...  \n",
       "16598  /media/om18/45c77682-c907-4971-84d4-126ad0d801...  \n",
       "16599  /media/om18/45c77682-c907-4971-84d4-126ad0d801...  \n",
       "16600  /media/om18/45c77682-c907-4971-84d4-126ad0d801...  \n",
       "16601  /media/om18/45c77682-c907-4971-84d4-126ad0d801...  \n",
       "16602  /media/om18/45c77682-c907-4971-84d4-126ad0d801...  \n",
       "\n",
       "[16603 rows x 7 columns]"
      ]
     },
     "execution_count": 63,
     "metadata": {},
     "output_type": "execute_result"
    }
   ],
   "source": [
    "fldr = train_aug_subset_folders[0]\n",
    "tmp_df = pd.DataFrame(columns=['seriesuid','coordX','coordY','coordZ','class','diameter_mm','filename'])\n",
    "tmp_df['filename'] = [fldr + file for file in os.listdir(fldr)]\n",
    "print(tmp_df.shape)\n",
    "tmp_df"
   ]
  },
  {
   "cell_type": "code",
   "execution_count": 64,
   "metadata": {},
   "outputs": [],
   "source": [
    "tmp_df['epoch']= tmp_df['filename'].apply(lambda x:int(x.split('_ep')[-1]))"
   ]
  },
  {
   "cell_type": "code",
   "execution_count": 65,
   "metadata": {},
   "outputs": [
    {
     "name": "stdout",
     "output_type": "stream",
     "text": [
      "(16603, 8)\n",
      "(4671, 7)\n"
     ]
    }
   ],
   "source": [
    "print(tmp_df.shape)\n",
    "tmp_df = tmp_df[tmp_df['epoch']<70]\n",
    "tmp_df = tmp_df.drop('epoch',axis=1)\n",
    "print(tmp_df.shape)"
   ]
  },
  {
   "cell_type": "code",
   "execution_count": 61,
   "metadata": {},
   "outputs": [
    {
     "data": {
      "text/plain": [
       "3.5544851209591095"
      ]
     },
     "execution_count": 61,
     "metadata": {},
     "output_type": "execute_result"
    }
   ],
   "source": [
    "16603 / 4671"
   ]
  },
  {
   "cell_type": "code",
   "execution_count": 70,
   "metadata": {},
   "outputs": [
    {
     "data": {
      "text/plain": [
       "'/media/om18/45c77682-c907-4971-84d4-126ad0d801dc1/LUNA16/cycleGAN_aug_10_folds/subset9/'"
      ]
     },
     "execution_count": 70,
     "metadata": {},
     "output_type": "execute_result"
    }
   ],
   "source": [
    "fldr"
   ]
  },
  {
   "cell_type": "code",
   "execution_count": 69,
   "metadata": {},
   "outputs": [],
   "source": [
    "eps_all = []\n",
    "for fldr in train_aug_subset_folders:\n",
    "    for file in os.listdir(fldr):\n",
    "        ep = int(file.split('_ep')[-1])\n",
    "        eps_all.append(ep)"
   ]
  },
  {
   "cell_type": "code",
   "execution_count": 75,
   "metadata": {},
   "outputs": [
    {
     "data": {
      "image/png": "[encoded data removed]",
      "text/plain": [
       "<Figure size 432x288 with 1 Axes>"
      ]
     },
     "metadata": {
      "needs_background": "light"
     },
     "output_type": "display_data"
    }
   ],
   "source": [
    "import seaborn as sns\n",
    "sns.distplot(eps, bins=10, kde=False);"
   ]
  },
  {
   "cell_type": "code",
   "execution_count": 80,
   "metadata": {},
   "outputs": [
    {
     "data": {
      "text/plain": [
       "(121865, 33148, 0.2720059081770812)"
      ]
     },
     "execution_count": 80,
     "metadata": {},
     "output_type": "execute_result"
    }
   ],
   "source": [
    "eps_all_less_70 = [i for i in eps_all if i<70]\n",
    "len(eps_all), len(eps_all_less_70), len(eps_all_less_70)/len(eps_all)"
   ]
  },
  {
   "cell_type": "code",
   "execution_count": 46,
   "metadata": {},
   "outputs": [
    {
     "data": {
      "text/html": [
       "<div>\n",
       "<style scoped>\n",
       "    .dataframe tbody tr th:only-of-type {\n",
       "        vertical-align: middle;\n",
       "    }\n",
       "\n",
       "    .dataframe tbody tr th {\n",
       "        vertical-align: top;\n",
       "    }\n",
       "\n",
       "    .dataframe thead th {\n",
       "        text-align: right;\n",
       "    }\n",
       "</style>\n",
       "<table border=\"1\" class=\"dataframe\">\n",
       "  <thead>\n",
       "    <tr style=\"text-align: right;\">\n",
       "      <th></th>\n",
       "      <th>seriesuid</th>\n",
       "      <th>coordX</th>\n",
       "      <th>coordY</th>\n",
       "      <th>coordZ</th>\n",
       "      <th>class</th>\n",
       "      <th>diameter_mm</th>\n",
       "      <th>filename</th>\n",
       "    </tr>\n",
       "  </thead>\n",
       "  <tbody>\n",
       "  </tbody>\n",
       "</table>\n",
       "</div>"
      ],
      "text/plain": [
       "Empty DataFrame\n",
       "Columns: [seriesuid, coordX, coordY, coordZ, class, diameter_mm, filename]\n",
       "Index: []"
      ]
     },
     "execution_count": 46,
     "metadata": {},
     "output_type": "execute_result"
    }
   ],
   "source": [
    "tmp_df = pd.DataFrame(columns=['seriesuid','coordX','coordY','coordZ','class','diameter_mm','filename'])\n",
    "tmp_df.append({'seriesuid':'x','coordX':'x','coordY':'x','coordZ':'x','class':'x','diameter_mm':'x',\n",
    "               'filename': fldr + file}, ignore_index=True)\n",
    "tmp_df"
   ]
  },
  {
   "cell_type": "code",
   "execution_count": 39,
   "metadata": {},
   "outputs": [
    {
     "data": {
      "text/html": [
       "<div>\n",
       "<style scoped>\n",
       "    .dataframe tbody tr th:only-of-type {\n",
       "        vertical-align: middle;\n",
       "    }\n",
       "\n",
       "    .dataframe tbody tr th {\n",
       "        vertical-align: top;\n",
       "    }\n",
       "\n",
       "    .dataframe thead th {\n",
       "        text-align: right;\n",
       "    }\n",
       "</style>\n",
       "<table border=\"1\" class=\"dataframe\">\n",
       "  <thead>\n",
       "    <tr style=\"text-align: right;\">\n",
       "      <th></th>\n",
       "      <th>seriesuid</th>\n",
       "      <th>coordX</th>\n",
       "      <th>coordY</th>\n",
       "      <th>coordZ</th>\n",
       "      <th>class</th>\n",
       "      <th>diameter_mm</th>\n",
       "      <th>filename</th>\n",
       "    </tr>\n",
       "  </thead>\n",
       "  <tbody>\n",
       "  </tbody>\n",
       "</table>\n",
       "</div>"
      ],
      "text/plain": [
       "Empty DataFrame\n",
       "Columns: [seriesuid, coordX, coordY, coordZ, class, diameter_mm, filename]\n",
       "Index: []"
      ]
     },
     "execution_count": 39,
     "metadata": {},
     "output_type": "execute_result"
    }
   ],
   "source": [
    "tmp_df_all"
   ]
  },
  {
   "cell_type": "code",
   "execution_count": null,
   "metadata": {},
   "outputs": [],
   "source": []
  },
  {
   "cell_type": "code",
   "execution_count": null,
   "metadata": {},
   "outputs": [],
   "source": []
  },
  {
   "cell_type": "code",
   "execution_count": 41,
   "metadata": {},
   "outputs": [
    {
     "data": {
      "text/plain": [
       "'/media/om18/45c77682-c907-4971-84d4-126ad0d801dc1/LUNA16/cycleGAN_aug_10_folds/subset2/1.3.6.1.4.1.14519.5.2.1.6279.6001.187966156856911682643615997798_block1_210_z86y260x99_ep102'"
      ]
     },
     "execution_count": 41,
     "metadata": {},
     "output_type": "execute_result"
    }
   ],
   "source": [
    "fldr + file"
   ]
  },
  {
   "cell_type": "code",
   "execution_count": null,
   "metadata": {},
   "outputs": [],
   "source": []
  },
  {
   "cell_type": "code",
   "execution_count": null,
   "metadata": {},
   "outputs": [],
   "source": []
  },
  {
   "cell_type": "code",
   "execution_count": null,
   "metadata": {},
   "outputs": [],
   "source": []
  },
  {
   "cell_type": "code",
   "execution_count": null,
   "metadata": {},
   "outputs": [],
   "source": []
  },
  {
   "cell_type": "code",
   "execution_count": null,
   "metadata": {},
   "outputs": [],
   "source": []
  },
  {
   "cell_type": "code",
   "execution_count": null,
   "metadata": {},
   "outputs": [],
   "source": []
  },
  {
   "cell_type": "code",
   "execution_count": null,
   "metadata": {},
   "outputs": [],
   "source": []
  },
  {
   "cell_type": "code",
   "execution_count": null,
   "metadata": {},
   "outputs": [],
   "source": []
  },
  {
   "cell_type": "code",
   "execution_count": null,
   "metadata": {},
   "outputs": [],
   "source": []
  },
  {
   "cell_type": "code",
   "execution_count": null,
   "metadata": {},
   "outputs": [],
   "source": []
  },
  {
   "cell_type": "code",
   "execution_count": null,
   "metadata": {},
   "outputs": [],
   "source": []
  },
  {
   "cell_type": "code",
   "execution_count": null,
   "metadata": {},
   "outputs": [],
   "source": []
  },
  {
   "cell_type": "code",
   "execution_count": null,
   "metadata": {},
   "outputs": [],
   "source": []
  }
 ],
 "metadata": {
  "kernelspec": {
   "display_name": "Python 3",
   "language": "python",
   "name": "python3"
  },
  "language_info": {
   "codemirror_mode": {
    "name": "ipython",
    "version": 3
   },
   "file_extension": ".py",
   "mimetype": "text/x-python",
   "name": "python",
   "nbconvert_exporter": "python",
   "pygments_lexer": "ipython3",
   "version": "3.7.4"
  }
 },
 "nbformat": 4,
 "nbformat_minor": 2
}
